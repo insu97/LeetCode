{
 "cells": [
  {
   "cell_type": "code",
   "execution_count": 1,
   "id": "d2ebd211-d8a8-4b41-ae71-00545ab83de9",
   "metadata": {},
   "outputs": [],
   "source": [
    "def isValid(s) -> bool:\n",
    "\n",
    "    #vList = []\n",
    "\n",
    "    if s[0] == ')' or s[0] == ']' or s[0] == '}' :\n",
    "        return False\n",
    "\n",
    "    vList = [s[0]]\n",
    "    #if len(vList) == 0 :\n",
    "        #vList.append(s[0])\n",
    "\n",
    "\n",
    "    for i in range(1, len(s)) :\n",
    "        if s[i] == '(' :\n",
    "            vList.append(s[i])\n",
    "        elif s[i] == '[' :\n",
    "            vList.append(s[i])\n",
    "        elif s[i] == '{' :\n",
    "            vList.append(s[i])\n",
    "        else :\n",
    "            if len(vList) == 0 :\n",
    "                return False\n",
    "            elif s[i] == ')' :\n",
    "                if vList[-1] != '(' :\n",
    "                    return False\n",
    "                else :\n",
    "                    del vList[-1]\n",
    "            elif s[i] == ']' :\n",
    "                if vList[-1] != '[' :\n",
    "                    return False\n",
    "                else :\n",
    "                    del vList[-1]\n",
    "            elif s[i] == '}' :\n",
    "                if vList[-1] != '{' :\n",
    "                    return False\n",
    "                else :\n",
    "                    del vList[-1]\n",
    "\n",
    "    if len(vList) == 0 :\n",
    "        return True\n",
    "    else :\n",
    "        return False"
   ]
  },
  {
   "cell_type": "code",
   "execution_count": 2,
   "id": "6e7783ef-8f19-43f1-b79e-cab5242f02c5",
   "metadata": {},
   "outputs": [],
   "source": [
    "s = \"()\""
   ]
  },
  {
   "cell_type": "code",
   "execution_count": 3,
   "id": "0cd0d0c3-5a4b-4fc0-963a-c4e71c07b76c",
   "metadata": {},
   "outputs": [
    {
     "data": {
      "text/plain": [
       "True"
      ]
     },
     "execution_count": 3,
     "metadata": {},
     "output_type": "execute_result"
    }
   ],
   "source": [
    "isValid(s)"
   ]
  },
  {
   "cell_type": "code",
   "execution_count": 4,
   "id": "9f424455-e79b-4ca2-adcb-724be3a56a11",
   "metadata": {},
   "outputs": [],
   "source": [
    "s = \"()[]{}\""
   ]
  },
  {
   "cell_type": "code",
   "execution_count": 5,
   "id": "213e3c92-2a40-40da-9989-e517838049a5",
   "metadata": {},
   "outputs": [
    {
     "data": {
      "text/plain": [
       "True"
      ]
     },
     "execution_count": 5,
     "metadata": {},
     "output_type": "execute_result"
    }
   ],
   "source": [
    "isValid(s)"
   ]
  },
  {
   "cell_type": "code",
   "execution_count": 6,
   "id": "30803022-6f99-4735-997b-96e74c6eab9d",
   "metadata": {},
   "outputs": [],
   "source": [
    "s = \"(]\""
   ]
  },
  {
   "cell_type": "code",
   "execution_count": 7,
   "id": "b4e90538-2aa6-41fc-906b-1ffe4c2a57b9",
   "metadata": {},
   "outputs": [
    {
     "data": {
      "text/plain": [
       "False"
      ]
     },
     "execution_count": 7,
     "metadata": {},
     "output_type": "execute_result"
    }
   ],
   "source": [
    "isValid(s)"
   ]
  }
 ],
 "metadata": {
  "kernelspec": {
   "display_name": "Python 3",
   "language": "python",
   "name": "python3"
  },
  "language_info": {
   "codemirror_mode": {
    "name": "ipython",
    "version": 3
   },
   "file_extension": ".py",
   "mimetype": "text/x-python",
   "name": "python",
   "nbconvert_exporter": "python",
   "pygments_lexer": "ipython3",
   "version": "3.8.8"
  }
 },
 "nbformat": 4,
 "nbformat_minor": 5
}
