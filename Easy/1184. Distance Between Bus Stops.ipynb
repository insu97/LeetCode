{
 "cells": [
  {
   "cell_type": "code",
   "execution_count": 1,
   "id": "f88ede02-80f8-4601-9b5f-d55ef26aed0a",
   "metadata": {},
   "outputs": [],
   "source": [
    "def distanceBetweenBusStops(distance, start, destination) -> int:\n",
    "    answer_front = 0\n",
    "    answer_back = 0\n",
    "\n",
    "    if start > destination :\n",
    "        x = destination\n",
    "        destination = start\n",
    "        start = x\n",
    "\n",
    "    total_distance = sum(distance)\n",
    "\n",
    "    new_front = distance[start:destination]\n",
    "    answer_front = sum(new_front)\n",
    "\n",
    "    answer_back = total_distance - answer_front\n",
    "\n",
    "    if answer_front <= answer_back :\n",
    "        return answer_front\n",
    "    else :\n",
    "        return answer_back"
   ]
  },
  {
   "cell_type": "code",
   "execution_count": 3,
   "id": "46bf589d-5a6e-44d8-8f7a-edcfc3039fcf",
   "metadata": {},
   "outputs": [],
   "source": [
    "distance = [1,2,3,4]\n",
    "start = 0\n",
    "destination = 1"
   ]
  },
  {
   "cell_type": "code",
   "execution_count": 4,
   "id": "977a8e89-c6ec-4a7c-aed7-ee412344ff6d",
   "metadata": {},
   "outputs": [
    {
     "data": {
      "text/plain": [
       "1"
      ]
     },
     "execution_count": 4,
     "metadata": {},
     "output_type": "execute_result"
    }
   ],
   "source": [
    "distanceBetweenBusStops(distance , start , destination)"
   ]
  },
  {
   "cell_type": "code",
   "execution_count": 6,
   "id": "55b60d97-5d0c-46ae-868f-8bb3937cc417",
   "metadata": {},
   "outputs": [],
   "source": [
    "distance = [1,2,3,4]\n",
    "start = 0\n",
    "destination = 2"
   ]
  },
  {
   "cell_type": "code",
   "execution_count": 7,
   "id": "c272a33a-0d38-40f5-85d0-5359f6e9b2d9",
   "metadata": {},
   "outputs": [
    {
     "data": {
      "text/plain": [
       "3"
      ]
     },
     "execution_count": 7,
     "metadata": {},
     "output_type": "execute_result"
    }
   ],
   "source": [
    "distanceBetweenBusStops(distance , start , destination)"
   ]
  },
  {
   "cell_type": "code",
   "execution_count": null,
   "id": "3eb606f0-9957-4fe7-ae18-c86627ff36fa",
   "metadata": {},
   "outputs": [],
   "source": []
  }
 ],
 "metadata": {
  "kernelspec": {
   "display_name": "Python 3",
   "language": "python",
   "name": "python3"
  },
  "language_info": {
   "codemirror_mode": {
    "name": "ipython",
    "version": 3
   },
   "file_extension": ".py",
   "mimetype": "text/x-python",
   "name": "python",
   "nbconvert_exporter": "python",
   "pygments_lexer": "ipython3",
   "version": "3.8.8"
  }
 },
 "nbformat": 4,
 "nbformat_minor": 5
}
