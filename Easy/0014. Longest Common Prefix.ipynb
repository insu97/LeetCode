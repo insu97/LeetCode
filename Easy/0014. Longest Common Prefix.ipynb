{
 "cells": [
  {
   "cell_type": "code",
   "execution_count": 9,
   "id": "187aa6fc-1753-4bad-b927-804aea0b6e82",
   "metadata": {},
   "outputs": [],
   "source": [
    "def longestCommonPrefix(strs) -> str:\n",
    "\n",
    "    c = ''\n",
    "\n",
    "    if len(strs) == 0 :\n",
    "        return ''\n",
    "    elif len(strs) == 1 :\n",
    "        return strs[0]\n",
    "    elif strs[0] == '' :\n",
    "        return ''\n",
    "\n",
    "    for i in range(len(strs[0])) :  # 0 , 1 , 2 , 3 , 4 , 5\n",
    "        for j in range(len(strs)) : # 0 , 1 , 2\n",
    "            if j == 0 :\n",
    "                c += strs[j][i]\n",
    "            elif len(c) > len(strs[j]) :\n",
    "                return c[:-1]\n",
    "            elif c[i] == strs[j][i] :\n",
    "                continue\n",
    "            else :\n",
    "                return c[:-1]\n",
    "    return c"
   ]
  },
  {
   "cell_type": "code",
   "execution_count": 11,
   "id": "c863f247-f234-4a93-a5cc-8e2a9476b241",
   "metadata": {},
   "outputs": [],
   "source": [
    "strs = [\"flower\",\"flow\",\"flight\"]"
   ]
  },
  {
   "cell_type": "code",
   "execution_count": 12,
   "id": "6c8f623d-2671-4671-af37-15070e02a314",
   "metadata": {},
   "outputs": [
    {
     "data": {
      "text/plain": [
       "'fl'"
      ]
     },
     "execution_count": 12,
     "metadata": {},
     "output_type": "execute_result"
    }
   ],
   "source": [
    "longestCommonPrefix(strs)"
   ]
  },
  {
   "cell_type": "code",
   "execution_count": 13,
   "id": "3e231761-340f-480d-86f4-7c7056b56d6c",
   "metadata": {},
   "outputs": [],
   "source": [
    "strs = [\"dog\",\"racecar\",\"car\"]"
   ]
  },
  {
   "cell_type": "code",
   "execution_count": 14,
   "id": "2c6934b5-db44-4c43-8391-7ebbffa479bc",
   "metadata": {},
   "outputs": [
    {
     "data": {
      "text/plain": [
       "''"
      ]
     },
     "execution_count": 14,
     "metadata": {},
     "output_type": "execute_result"
    }
   ],
   "source": [
    "longestCommonPrefix(strs)"
   ]
  }
 ],
 "metadata": {
  "kernelspec": {
   "display_name": "Python 3",
   "language": "python",
   "name": "python3"
  },
  "language_info": {
   "codemirror_mode": {
    "name": "ipython",
    "version": 3
   },
   "file_extension": ".py",
   "mimetype": "text/x-python",
   "name": "python",
   "nbconvert_exporter": "python",
   "pygments_lexer": "ipython3",
   "version": "3.8.8"
  }
 },
 "nbformat": 4,
 "nbformat_minor": 5
}
